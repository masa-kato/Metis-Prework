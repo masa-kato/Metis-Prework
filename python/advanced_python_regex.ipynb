{
 "cells": [
  {
   "cell_type": "code",
   "execution_count": 25,
   "metadata": {
    "collapsed": true
   },
   "outputs": [],
   "source": [
    "# Import Relevant Libraries\n",
    "import pandas as pd\n",
    "import re"
   ]
  },
  {
   "cell_type": "markdown",
   "metadata": {},
   "source": [
    "# Question 1"
   ]
  },
  {
   "cell_type": "code",
   "execution_count": 150,
   "metadata": {
    "collapsed": false
   },
   "outputs": [
    {
     "data": {
      "text/html": [
       "<div>\n",
       "<table border=\"1\" class=\"dataframe\">\n",
       "  <thead>\n",
       "    <tr style=\"text-align: right;\">\n",
       "      <th></th>\n",
       "      <th>name</th>\n",
       "      <th>degree</th>\n",
       "      <th>title</th>\n",
       "      <th>email</th>\n",
       "    </tr>\n",
       "  </thead>\n",
       "  <tbody>\n",
       "    <tr>\n",
       "      <th>0</th>\n",
       "      <td>Scarlett L. Bellamy</td>\n",
       "      <td>Sc.D.</td>\n",
       "      <td>Associate Professor of Biostatistics</td>\n",
       "      <td>bellamys@mail.med.upenn.edu</td>\n",
       "    </tr>\n",
       "    <tr>\n",
       "      <th>1</th>\n",
       "      <td>Warren B. Bilker</td>\n",
       "      <td>Ph.D.</td>\n",
       "      <td>Professor of Biostatistics</td>\n",
       "      <td>warren@upenn.edu</td>\n",
       "    </tr>\n",
       "    <tr>\n",
       "      <th>2</th>\n",
       "      <td>Matthew W Bryan</td>\n",
       "      <td>PhD</td>\n",
       "      <td>Assistant Professor of Biostatistics</td>\n",
       "      <td>bryanma@upenn.edu</td>\n",
       "    </tr>\n",
       "    <tr>\n",
       "      <th>3</th>\n",
       "      <td>Jinbo Chen</td>\n",
       "      <td>Ph.D.</td>\n",
       "      <td>Associate Professor of Biostatistics</td>\n",
       "      <td>jinboche@upenn.edu</td>\n",
       "    </tr>\n",
       "    <tr>\n",
       "      <th>4</th>\n",
       "      <td>Susan S Ellenberg</td>\n",
       "      <td>Ph.D.</td>\n",
       "      <td>Professor of Biostatistics</td>\n",
       "      <td>sellenbe@upenn.edu</td>\n",
       "    </tr>\n",
       "  </tbody>\n",
       "</table>\n",
       "</div>"
      ],
      "text/plain": [
       "                  name  degree                                 title  \\\n",
       "0  Scarlett L. Bellamy   Sc.D.  Associate Professor of Biostatistics   \n",
       "1     Warren B. Bilker   Ph.D.            Professor of Biostatistics   \n",
       "2      Matthew W Bryan     PhD  Assistant Professor of Biostatistics   \n",
       "3           Jinbo Chen   Ph.D.  Associate Professor of Biostatistics   \n",
       "4    Susan S Ellenberg   Ph.D.            Professor of Biostatistics   \n",
       "\n",
       "                         email  \n",
       "0  bellamys@mail.med.upenn.edu  \n",
       "1             warren@upenn.edu  \n",
       "2            bryanma@upenn.edu  \n",
       "3           jinboche@upenn.edu  \n",
       "4           sellenbe@upenn.edu  "
      ]
     },
     "execution_count": 150,
     "metadata": {},
     "output_type": "execute_result"
    }
   ],
   "source": [
    "# Import Data\n",
    "df = pd.read_csv('faculty.csv')\n",
    "\n",
    "# Preview Data\n",
    "df.head()"
   ]
  },
  {
   "cell_type": "code",
   "execution_count": 151,
   "metadata": {
    "collapsed": false
   },
   "outputs": [
    {
     "name": "stdout",
     "output_type": "stream",
     "text": [
      "Number of Unique Degrees: 8\n",
      "Frequency of Each Degree: {'BSED': 1, 'SCD': 6, 'MD': 1, 'MPH': 2, 'MA': 1, 'PHD': 31, 'MS': 2, 'JD': 1}\n"
     ]
    }
   ],
   "source": [
    "# Create a Dictionary of Degrees & Counts\n",
    "data = df[' degree']\n",
    "count = {}\n",
    "for degrees in data:\n",
    "    for degree in degrees.split():\n",
    "        word = re.sub(r'\\.','',degree)\n",
    "        if re.match(\"^[A-Za-z]*$\", word):\n",
    "            count[word.upper()] = count.get(word.upper(),0) +1\n",
    "            \n",
    "# Number of Unique Degrees\n",
    "print('Number of Unique Degrees:',len(count.keys()))\n",
    "\n",
    "# Frequency of Each Degree\n",
    "print('Frequency of Each Degree:',count)"
   ]
  },
  {
   "cell_type": "markdown",
   "metadata": {},
   "source": [
    "# Question 2"
   ]
  },
  {
   "cell_type": "code",
   "execution_count": 131,
   "metadata": {
    "collapsed": false
   },
   "outputs": [
    {
     "name": "stdout",
     "output_type": "stream",
     "text": [
      "Number of Unique Titles: 3\n",
      "Frequency of Each Title: {'Associate Professor': 12, 'Assistant Professor': 12, 'Professor': 13}\n"
     ]
    }
   ],
   "source": [
    "# Create a Dictionary of Degrees & Counts\n",
    "titles = df[' title']\n",
    "find = re.compile(r\"(\\w+ \\w+|\\w+) (of|is)\")\n",
    "title_count = {}\n",
    "for title in titles:\n",
    "    name = re.search(find, title).group(1)\n",
    "    title_count[name] = title_count.get(name,0) + 1\n",
    "    \n",
    "# Number of Unique Title\n",
    "print('Number of Unique Titles:',len(title_count.keys()))\n",
    "\n",
    "# Frequency of Each Title\n",
    "print('Frequency of Each Title:',title_count)    "
   ]
  },
  {
   "cell_type": "markdown",
   "metadata": {},
   "source": [
    "# Question 3"
   ]
  },
  {
   "cell_type": "code",
   "execution_count": 77,
   "metadata": {
    "collapsed": false
   },
   "outputs": [
    {
     "name": "stdout",
     "output_type": "stream",
     "text": [
      "['bellamys@mail.med.upenn.edu', 'warren@upenn.edu', 'bryanma@upenn.edu', 'jinboche@upenn.edu', 'sellenbe@upenn.edu', 'jellenbe@mail.med.upenn.edu', 'ruifeng@upenn.edu', 'bcfrench@mail.med.upenn.edu', 'pgimotty@upenn.edu', 'wguo@mail.med.upenn.edu', 'hsu9@mail.med.upenn.edu', 'rhubb@mail.med.upenn.edu', 'whwang@mail.med.upenn.edu', 'mjoffe@mail.med.upenn.edu', 'jrlandis@mail.med.upenn.edu', 'liy3@email.chop.edu', 'mingyao@mail.med.upenn.edu', 'hongzhe@upenn.edu', 'rlocalio@upenn.edu', 'nanditam@mail.med.upenn.edu', 'knashawn@mail.med.upenn.edu', 'propert@mail.med.upenn.edu', 'mputt@mail.med.upenn.edu', 'sratclif@upenn.edu', 'michross@upenn.edu', 'jaroy@mail.med.upenn.edu', 'msammel@cceb.med.upenn.edu', 'shawp@upenn.edu', 'rshi@mail.med.upenn.edu', 'hshou@mail.med.upenn.edu', 'jshults@mail.med.upenn.edu', 'alisaste@mail.med.upenn.edu', 'atroxel@mail.med.upenn.edu', 'rxiao@mail.med.upenn.edu', 'sxie@mail.med.upenn.edu', 'dxie@upenn.edu', 'weiyang@mail.med.upenn.edu']\n"
     ]
    }
   ],
   "source": [
    "# Create a List of Email Addresses\n",
    "emails = df[' email']\n",
    "email_list = emails.tolist()\n",
    "print(email_list)"
   ]
  },
  {
   "cell_type": "markdown",
   "metadata": {},
   "source": [
    "# Question 4"
   ]
  },
  {
   "cell_type": "code",
   "execution_count": 153,
   "metadata": {
    "collapsed": false
   },
   "outputs": [
    {
     "name": "stdout",
     "output_type": "stream",
     "text": [
      "Number of Unique Domains: 4\n",
      "List of Unique Domains: {'upenn.edu', 'cceb.med.upenn.edu', 'email.chop.edu', 'mail.med.upenn.edu'}\n"
     ]
    }
   ],
   "source": [
    "# Create a List of Each Email Domain \n",
    "find = re.compile(r\"([^@]*)$\")\n",
    "domains = []\n",
    "for email in emails:\n",
    "    domains.append(re.search(find, email).group(0))\n",
    "\n",
    "# Number of Unique Title\n",
    "print('Number of Unique Domains:',len(set(domains)))\n",
    "\n",
    "# Filter the List for Unique Domains\n",
    "print('List of Unique Domains:',set(domains))"
   ]
  },
  {
   "cell_type": "code",
   "execution_count": null,
   "metadata": {
    "collapsed": true
   },
   "outputs": [],
   "source": []
  }
 ],
 "metadata": {
  "kernelspec": {
   "display_name": "Python [Root]",
   "language": "python",
   "name": "Python [Root]"
  },
  "language_info": {
   "codemirror_mode": {
    "name": "ipython",
    "version": 3
   },
   "file_extension": ".py",
   "mimetype": "text/x-python",
   "name": "python",
   "nbconvert_exporter": "python",
   "pygments_lexer": "ipython3",
   "version": "3.5.2"
  }
 },
 "nbformat": 4,
 "nbformat_minor": 0
}
