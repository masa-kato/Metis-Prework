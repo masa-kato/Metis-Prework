{
 "cells": [
  {
   "cell_type": "markdown",
   "metadata": {},
   "source": [
    "# Linear Algebra"
   ]
  },
  {
   "cell_type": "code",
   "execution_count": 4,
   "metadata": {
    "collapsed": true
   },
   "outputs": [],
   "source": [
    "# Import Relevant Libraries\n",
    "import numpy as np"
   ]
  },
  {
   "cell_type": "code",
   "execution_count": 40,
   "metadata": {
    "collapsed": false
   },
   "outputs": [],
   "source": [
    "# Define Variables\n",
    "A = np.matrix([[1, 2, 3],[2, 7, 4]])\n",
    "B = np.matrix([[1, -1],[0, -1]])\n",
    "C = np.matrix([[5, -1],[9, 1],[6, 0]])\n",
    "D = np.matrix([[3, -2, -1], [1, 2, 3]])\n",
    "\n",
    "u = np.matrix([6, 2, -3, 5])\n",
    "v = np.matrix([3, 5, -1 ,4])\n",
    "w = np.matrix([1,8, 0, 5]).transpose()"
   ]
  },
  {
   "cell_type": "markdown",
   "metadata": {},
   "source": [
    "## Part 1: Matrix Dimensions"
   ]
  },
  {
   "cell_type": "code",
   "execution_count": 41,
   "metadata": {
    "collapsed": false
   },
   "outputs": [
    {
     "name": "stdout",
     "output_type": "stream",
     "text": [
      "Dimension of A: (2, 3)\n",
      "Dimension of B: (2, 2)\n",
      "Dimension of C: (3, 2)\n",
      "Dimension of D: (2, 3)\n",
      "Dimension of u: (1, 4)\n",
      "Dimension of w: (4, 1)\n"
     ]
    }
   ],
   "source": [
    "# 1.1\n",
    "print('Dimension of A:',np.shape(A))\n",
    "# 1.2\n",
    "print('Dimension of B:',np.shape(B))\n",
    "# 1.3\n",
    "print('Dimension of C:',np.shape(C))\n",
    "# 1.4\n",
    "print('Dimension of D:',np.shape(D))\n",
    "# 1.5\n",
    "print('Dimension of u:',np.shape(u))\n",
    "# 1.6\n",
    "print('Dimension of w:',np.shape(w))"
   ]
  },
  {
   "cell_type": "markdown",
   "metadata": {
    "collapsed": true
   },
   "source": [
    "# Part 2: Vector Operations"
   ]
  },
  {
   "cell_type": "code",
   "execution_count": 28,
   "metadata": {
    "collapsed": true
   },
   "outputs": [],
   "source": [
    "# Define Variables\n",
    "alpha = 6"
   ]
  },
  {
   "cell_type": "code",
   "execution_count": 47,
   "metadata": {
    "collapsed": false
   },
   "outputs": [
    {
     "name": "stdout",
     "output_type": "stream",
     "text": [
      "u + v = [[ 9  7 -4  9]]\n",
      "u - v = [[ 3 -3 -2  1]]\n",
      "alpha * u = [[ 36  12 -18  30]]\n",
      "u * v = 51\n",
      "||u|| = 8.60232526704\n"
     ]
    }
   ],
   "source": [
    "# 2.1 \n",
    "print('u + v =', u + v)\n",
    "# 2.2\n",
    "print('u - v =', u - v)\n",
    "# 2.3\n",
    "print('alpha * u =', alpha * u)\n",
    "# 2.4\n",
    "print('u * v =', int(u * v.transpose()))\n",
    "# 2.5\n",
    "print('||u|| =', np.linalg.norm(u))"
   ]
  },
  {
   "cell_type": "markdown",
   "metadata": {},
   "source": [
    "# Part 3: Matrix Operations"
   ]
  },
  {
   "cell_type": "code",
   "execution_count": 61,
   "metadata": {
    "collapsed": false
   },
   "outputs": [
    {
     "name": "stdout",
     "output_type": "stream",
     "text": [
      "A + C = Not Defined\n",
      "A - C'= [[-4 -7 -3]\n",
      " [ 3  6  4]]\n",
      "C' + 3D = [[14  3  3]\n",
      " [ 2  7  9]]\n",
      "BA = [[-1 -5 -1]\n",
      " [-2 -7 -4]]\n",
      "BA' = Not Defined\n",
      "BC = Not Defined\n",
      "CB = [[  5  -4]\n",
      " [  9 -10]\n",
      " [  6  -6]]\n",
      "B^4 = [[ 5 -5]\n",
      " [ 4 -5]]\n",
      "AA' = [[14 28]\n",
      " [28 69]]\n",
      "D'D = [[10 -4  0]\n",
      " [-4  8  8]\n",
      " [ 0  8 10]]\n"
     ]
    }
   ],
   "source": [
    "# 3.1\n",
    "print('A + C = Not Defined')\n",
    "# 3.2\n",
    "print(\"A - C'=\", A - C.transpose())\n",
    "# 3.3\n",
    "print(\"C' + 3D =\", C.transpose() + 3*D)\n",
    "# 3.4\n",
    "print('BA =',B*A)\n",
    "# 3.5\n",
    "print(\"BA' = Not Defined\")\n",
    "# 3.6\n",
    "print(\"BC = Not Defined\")\n",
    "# 3.7\n",
    "print(\"CB =\", C*B)\n",
    "# 3.8\n",
    "print(\"B^4 =\",B^4)\n",
    "# 3.9\n",
    "print(\"AA' =\",A*A.transpose())\n",
    "# 3.10\n",
    "print(\"D'D =\",D.transpose()*D)"
   ]
  }
 ],
 "metadata": {
  "anaconda-cloud": {},
  "kernelspec": {
   "display_name": "Python [Root]",
   "language": "python",
   "name": "Python [Root]"
  },
  "language_info": {
   "codemirror_mode": {
    "name": "ipython",
    "version": 3
   },
   "file_extension": ".py",
   "mimetype": "text/x-python",
   "name": "python",
   "nbconvert_exporter": "python",
   "pygments_lexer": "ipython3",
   "version": "3.5.2"
  }
 },
 "nbformat": 4,
 "nbformat_minor": 0
}
